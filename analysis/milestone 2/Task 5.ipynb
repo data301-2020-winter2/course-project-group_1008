{
 "cells": [
  {
   "cell_type": "markdown",
   "id": "premium-heavy",
   "metadata": {},
   "source": [
    "# ***Milestone 2 Task 5***\n",
    "\n",
    "## Research Questions:\n",
    "1. To what extent does the location of a meteor affect its found versus seen status?\n",
    "\n",
    "2. Does the mass of a meteor have any effect on whether it is observed falling?"
   ]
  },
  {
   "cell_type": "markdown",
   "id": "worthy-drill",
   "metadata": {},
   "source": [
    "## ***First Research Question:***\n",
    "\n",
    "### 1. To what extent does the location of a meteor affect its found versus seen status?\n",
    "\n",
    "Below is the following EDA that will be useful for our further analysis in Task 5 for this specific research question. "
   ]
  },
  {
   "cell_type": "code",
   "execution_count": null,
   "id": "treated-character",
   "metadata": {},
   "outputs": [],
   "source": []
  }
 ],
 "metadata": {
  "kernelspec": {
   "display_name": "Python 3",
   "language": "python",
   "name": "python3"
  },
  "language_info": {
   "codemirror_mode": {
    "name": "ipython",
    "version": 3
   },
   "file_extension": ".py",
   "mimetype": "text/x-python",
   "name": "python",
   "nbconvert_exporter": "python",
   "pygments_lexer": "ipython3",
   "version": "3.8.5"
  }
 },
 "nbformat": 4,
 "nbformat_minor": 5
}
