{
 "cells": [
  {
   "cell_type": "markdown",
   "id": "skilled-detection",
   "metadata": {},
   "source": [
    "# ***Milestone 2 Task 5***\n",
    "\n",
    "## Research Questions:\n",
    "1. To what extent does the location of a meteor affect its found versus seen status?\n",
    "\n",
    "2. Does the mass of a meteor have any effect on whether it is observed falling?"
   ]
  },
  {
   "cell_type": "markdown",
   "id": "continued-night",
   "metadata": {},
   "source": [
    "## ***First Research Question:***\n",
    "\n",
    "### 1. To what extent does the location of a meteor affect its found versus seen status?\n",
    "\n",
    "Below is the following EDA that will be useful for our further analysis in Task 5 for this specific research question. "
   ]
  },
  {
   "cell_type": "markdown",
   "id": "loaded-regular",
   "metadata": {},
   "source": [
    "Collectively, we decided that including Antartica in our analysis does not provide us with much information, as most of the meteorite findings that occurred in Antarctica were only found but not seen.\n",
    "    \n",
    "   Therefore, removing these values (anything with a latitude less than -60) will allow us to further direct our analysis based off of geographic location."
   ]
  },
  {
   "cell_type": "markdown",
   "id": "alien-upgrade",
   "metadata": {},
   "source": [
    "## Connecting Continental Analysis to our Research Question\n",
    "\n",
    "#### Research Question: \n",
    "To what extent does the location of a meteor affect its found versus seen status?\n",
    "\n",
    "---\n",
    "\n",
    "   Evident in all of the visualizations above, the fall status of these meteorite landings are dependant on their fallen location. As seen in the Antarctica Graph, all of these meteorites were found, which is rare, as all the other continents have a good mix of both found and observed meteorites. There are also huge gaps of data in some continents, such as South America. This may be because of factors that include technology, the detailed location of the meteorite or other external factors. Whatever these reasons may be, it is still evident that the location of a meteorite affects the fall status as shown by the differences in each continent. The continents that have a high volume of found statuses are the continents that are heavily involved in space travel and technology, such as the United States, Europe and Asia. \n"
   ]
  }
 ],
 "metadata": {
  "kernelspec": {
   "display_name": "Python 3",
   "language": "python",
   "name": "python3"
  },
  "language_info": {
   "codemirror_mode": {
    "name": "ipython",
    "version": 3
   },
   "file_extension": ".py",
   "mimetype": "text/x-python",
   "name": "python",
   "nbconvert_exporter": "python",
   "pygments_lexer": "ipython3",
   "version": "3.8.5"
  }
 },
 "nbformat": 4,
 "nbformat_minor": 5
}
