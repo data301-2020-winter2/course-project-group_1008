{
 "cells": [
  {
   "cell_type": "code",
   "execution_count": 176,
   "metadata": {},
   "outputs": [],
   "source": [
    "import pandas as pd\n",
    "import numpy as np\n",
    "import seaborn as sns\n",
    "import matplotlib.pyplot as plt\n",
    "from project_functions import load\n",
    "from project_functions import wrangle\n"
   ]
  },
  {
   "cell_type": "code",
   "execution_count": 257,
   "metadata": {},
   "outputs": [
    {
     "data": {
      "text/html": [
       "<div>\n",
       "<style scoped>\n",
       "    .dataframe tbody tr th:only-of-type {\n",
       "        vertical-align: middle;\n",
       "    }\n",
       "\n",
       "    .dataframe tbody tr th {\n",
       "        vertical-align: top;\n",
       "    }\n",
       "\n",
       "    .dataframe thead th {\n",
       "        text-align: right;\n",
       "    }\n",
       "</style>\n",
       "<table border=\"1\" class=\"dataframe\">\n",
       "  <thead>\n",
       "    <tr style=\"text-align: right;\">\n",
       "      <th></th>\n",
       "      <th>Name</th>\n",
       "      <th>ID</th>\n",
       "      <th>Status</th>\n",
       "      <th>Class</th>\n",
       "      <th>Mass (g)</th>\n",
       "      <th>Fall</th>\n",
       "      <th>Year</th>\n",
       "      <th>Latitude</th>\n",
       "      <th>Longitude</th>\n",
       "      <th>GeoLocation</th>\n",
       "    </tr>\n",
       "  </thead>\n",
       "  <tbody>\n",
       "    <tr>\n",
       "      <th>0</th>\n",
       "      <td>Aachen</td>\n",
       "      <td>1.0</td>\n",
       "      <td>Valid</td>\n",
       "      <td>L5</td>\n",
       "      <td>21.0</td>\n",
       "      <td>Observed</td>\n",
       "      <td>1880.0</td>\n",
       "      <td>50.77500</td>\n",
       "      <td>6.08333</td>\n",
       "      <td>(50.775000, 6.083330)</td>\n",
       "    </tr>\n",
       "    <tr>\n",
       "      <th>1</th>\n",
       "      <td>Aarhus</td>\n",
       "      <td>2.0</td>\n",
       "      <td>Valid</td>\n",
       "      <td>H6</td>\n",
       "      <td>720.0</td>\n",
       "      <td>Observed</td>\n",
       "      <td>1951.0</td>\n",
       "      <td>56.18333</td>\n",
       "      <td>10.23333</td>\n",
       "      <td>(56.183330, 10.233330)</td>\n",
       "    </tr>\n",
       "    <tr>\n",
       "      <th>3</th>\n",
       "      <td>Acapulco</td>\n",
       "      <td>10.0</td>\n",
       "      <td>Valid</td>\n",
       "      <td>Acapulcoite</td>\n",
       "      <td>1914.0</td>\n",
       "      <td>Observed</td>\n",
       "      <td>1976.0</td>\n",
       "      <td>16.88333</td>\n",
       "      <td>-99.90000</td>\n",
       "      <td>(16.883330, -99.900000)</td>\n",
       "    </tr>\n",
       "    <tr>\n",
       "      <th>4</th>\n",
       "      <td>Achiras</td>\n",
       "      <td>370.0</td>\n",
       "      <td>Valid</td>\n",
       "      <td>L6</td>\n",
       "      <td>780.0</td>\n",
       "      <td>Observed</td>\n",
       "      <td>1902.0</td>\n",
       "      <td>-33.16667</td>\n",
       "      <td>-64.95000</td>\n",
       "      <td>(-33.166670, -64.950000)</td>\n",
       "    </tr>\n",
       "    <tr>\n",
       "      <th>5</th>\n",
       "      <td>Adhi Kot</td>\n",
       "      <td>379.0</td>\n",
       "      <td>Valid</td>\n",
       "      <td>EH4</td>\n",
       "      <td>4239.0</td>\n",
       "      <td>Observed</td>\n",
       "      <td>1919.0</td>\n",
       "      <td>32.10000</td>\n",
       "      <td>71.80000</td>\n",
       "      <td>(32.100000, 71.800000)</td>\n",
       "    </tr>\n",
       "    <tr>\n",
       "      <th>...</th>\n",
       "      <td>...</td>\n",
       "      <td>...</td>\n",
       "      <td>...</td>\n",
       "      <td>...</td>\n",
       "      <td>...</td>\n",
       "      <td>...</td>\n",
       "      <td>...</td>\n",
       "      <td>...</td>\n",
       "      <td>...</td>\n",
       "      <td>...</td>\n",
       "    </tr>\n",
       "    <tr>\n",
       "      <th>1058</th>\n",
       "      <td>Zhuanghe</td>\n",
       "      <td>30408.0</td>\n",
       "      <td>Valid</td>\n",
       "      <td>H5</td>\n",
       "      <td>2900.0</td>\n",
       "      <td>Observed</td>\n",
       "      <td>1976.0</td>\n",
       "      <td>39.66667</td>\n",
       "      <td>122.98333</td>\n",
       "      <td>(39.666670, 122.983330)</td>\n",
       "    </tr>\n",
       "    <tr>\n",
       "      <th>1059</th>\n",
       "      <td>Zmenj</td>\n",
       "      <td>30411.0</td>\n",
       "      <td>Valid</td>\n",
       "      <td>Howardite</td>\n",
       "      <td>246.0</td>\n",
       "      <td>Observed</td>\n",
       "      <td>1858.0</td>\n",
       "      <td>51.83333</td>\n",
       "      <td>26.83333</td>\n",
       "      <td>(51.833330, 26.833330)</td>\n",
       "    </tr>\n",
       "    <tr>\n",
       "      <th>1060</th>\n",
       "      <td>Zomba</td>\n",
       "      <td>30412.0</td>\n",
       "      <td>Valid</td>\n",
       "      <td>L6</td>\n",
       "      <td>7500.0</td>\n",
       "      <td>Observed</td>\n",
       "      <td>1899.0</td>\n",
       "      <td>-15.18333</td>\n",
       "      <td>35.28333</td>\n",
       "      <td>(-15.183330, 35.283330)</td>\n",
       "    </tr>\n",
       "    <tr>\n",
       "      <th>1061</th>\n",
       "      <td>Zsadany</td>\n",
       "      <td>30413.0</td>\n",
       "      <td>Valid</td>\n",
       "      <td>H5</td>\n",
       "      <td>552.0</td>\n",
       "      <td>Observed</td>\n",
       "      <td>1875.0</td>\n",
       "      <td>46.93333</td>\n",
       "      <td>21.50000</td>\n",
       "      <td>(46.933330, 21.500000)</td>\n",
       "    </tr>\n",
       "    <tr>\n",
       "      <th>1062</th>\n",
       "      <td>Zvonkov</td>\n",
       "      <td>30415.0</td>\n",
       "      <td>Valid</td>\n",
       "      <td>H6</td>\n",
       "      <td>2568.0</td>\n",
       "      <td>Observed</td>\n",
       "      <td>1955.0</td>\n",
       "      <td>50.20000</td>\n",
       "      <td>30.25000</td>\n",
       "      <td>(50.200000, 30.250000)</td>\n",
       "    </tr>\n",
       "  </tbody>\n",
       "</table>\n",
       "<p>781 rows × 10 columns</p>\n",
       "</div>"
      ],
      "text/plain": [
       "          Name       ID Status        Class  Mass (g)      Fall    Year  \\\n",
       "0       Aachen      1.0  Valid           L5      21.0  Observed  1880.0   \n",
       "1       Aarhus      2.0  Valid           H6     720.0  Observed  1951.0   \n",
       "3     Acapulco     10.0  Valid  Acapulcoite    1914.0  Observed  1976.0   \n",
       "4      Achiras    370.0  Valid           L6     780.0  Observed  1902.0   \n",
       "5     Adhi Kot    379.0  Valid          EH4    4239.0  Observed  1919.0   \n",
       "...        ...      ...    ...          ...       ...       ...     ...   \n",
       "1058  Zhuanghe  30408.0  Valid           H5    2900.0  Observed  1976.0   \n",
       "1059     Zmenj  30411.0  Valid    Howardite     246.0  Observed  1858.0   \n",
       "1060     Zomba  30412.0  Valid           L6    7500.0  Observed  1899.0   \n",
       "1061   Zsadany  30413.0  Valid           H5     552.0  Observed  1875.0   \n",
       "1062   Zvonkov  30415.0  Valid           H6    2568.0  Observed  1955.0   \n",
       "\n",
       "      Latitude  Longitude               GeoLocation  \n",
       "0     50.77500    6.08333     (50.775000, 6.083330)  \n",
       "1     56.18333   10.23333    (56.183330, 10.233330)  \n",
       "3     16.88333  -99.90000   (16.883330, -99.900000)  \n",
       "4    -33.16667  -64.95000  (-33.166670, -64.950000)  \n",
       "5     32.10000   71.80000    (32.100000, 71.800000)  \n",
       "...        ...        ...                       ...  \n",
       "1058  39.66667  122.98333   (39.666670, 122.983330)  \n",
       "1059  51.83333   26.83333    (51.833330, 26.833330)  \n",
       "1060 -15.18333   35.28333   (-15.183330, 35.283330)  \n",
       "1061  46.93333   21.50000    (46.933330, 21.500000)  \n",
       "1062  50.20000   30.25000    (50.200000, 30.250000)  \n",
       "\n",
       "[781 rows x 10 columns]"
      ]
     },
     "execution_count": 257,
     "metadata": {},
     "output_type": "execute_result"
    }
   ],
   "source": [
    "df = wrangle(load(\"data/raw/meteorite-landings.csv\"))\n",
    "df = df[df[\"Mass (g)\"] <10000]\n",
    "dfSeen = df[df['Fall'] == 'Observed']\n",
    "dfFound = df[df['Fall'] == 'Found']\n",
    "dfSeen\n"
   ]
  },
  {
   "cell_type": "code",
   "execution_count": 178,
   "metadata": {},
   "outputs": [
    {
     "name": "stdout",
     "output_type": "stream",
     "text": [
      "47589.842436500476 17670.45288639775\n"
     ]
    }
   ],
   "source": [
    "MO = dfSeen['Mass (g)'].mean()\n",
    "MF = dfFound['Mass (g)'].mean()\n",
    "print(MO, MF)"
   ]
  },
  {
   "cell_type": "code",
   "execution_count": 146,
   "metadata": {},
   "outputs": [],
   "source": []
  },
  {
   "cell_type": "code",
   "execution_count": 262,
   "metadata": {},
   "outputs": [
    {
     "data": {
      "text/plain": [
       "<seaborn.axisgrid.FacetGrid at 0x24d8e6e5e80>"
      ]
     },
     "execution_count": 262,
     "metadata": {},
     "output_type": "execute_result"
    },
    {
     "data": {
      "image/png": "[encoded data removed]",
      "text/plain": [
       "<Figure size 360x360 with 1 Axes>"
      ]
     },
     "metadata": {},
     "output_type": "display_data"
    },
    {
     "data": {
      "image/png": "[encoded data removed]",
      "text/plain": [
       "<Figure size 360x360 with 1 Axes>"
      ]
     },
     "metadata": {},
     "output_type": "display_data"
    }
   ],
   "source": [
    "\n",
    "df4 = df[df.Fall == 'Found']\n",
    "sns.displot(df['Mass (g)'], kde=False, label='Found', bins= 20, color='orange')\n",
    "df5 = df[df.Fall == 'Observed']\n",
    "sns.displot(df['Mass (g)'], kde=False, label='Observed', bins= 20, color='blue')"
   ]
  },
  {
   "cell_type": "code",
   "execution_count": null,
   "metadata": {},
   "outputs": [],
   "source": []
  },
  {
   "cell_type": "code",
   "execution_count": null,
   "metadata": {},
   "outputs": [],
   "source": []
  }
 ],
 "metadata": {
  "kernelspec": {
   "display_name": "Python 3",
   "language": "python",
   "name": "python3"
  },
  "language_info": {
   "codemirror_mode": {
    "name": "ipython",
    "version": 3
   },
   "file_extension": ".py",
   "mimetype": "text/x-python",
   "name": "python",
   "nbconvert_exporter": "python",
   "pygments_lexer": "ipython3",
   "version": "3.8.5"
  }
 },
 "nbformat": 4,
 "nbformat_minor": 4
}
